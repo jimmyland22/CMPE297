{
 "cells": [
  {
   "cell_type": "markdown",
   "metadata": {
    "id": "KBhBLkNki6Ub"
   },
   "source": [
    "# CMPE 297 Homework - AutoViML\n",
    "https://github.com/AutoViML/deep_autoviml\n",
    "### NLP Task - Fake News Dataset\n",
    "https://www.kaggle.com/clmentbisaillon/fake-and-real-news-dataset\n"
   ]
  },
  {
   "cell_type": "code",
   "execution_count": 1,
   "metadata": {
    "id": "6mJPSVtZi0UL"
   },
   "outputs": [],
   "source": [
    "#!pip install deep_autoviml -q"
   ]
  },
  {
   "cell_type": "code",
   "execution_count": 2,
   "metadata": {},
   "outputs": [],
   "source": [
    "import opendatasets as od"
   ]
  },
  {
   "cell_type": "code",
   "execution_count": 3,
   "metadata": {},
   "outputs": [
    {
     "name": "stdout",
     "output_type": "stream",
     "text": [
      "Please provide your Kaggle credentials to download this dataset. Learn more: http://bit.ly/kaggle-creds\n",
      "Your Kaggle username:"
     ]
    },
    {
     "name": "stdin",
     "output_type": "stream",
     "text": [
      "  jhk223\n"
     ]
    },
    {
     "name": "stdout",
     "output_type": "stream",
     "text": [
      "Your Kaggle Key:"
     ]
    },
    {
     "name": "stdin",
     "output_type": "stream",
     "text": [
      "  3c7494a435afdae234068621182d4381\n"
     ]
    },
    {
     "name": "stdout",
     "output_type": "stream",
     "text": [
      "Downloading fake-and-real-news-dataset.zip to .\\fake-and-real-news-dataset\n"
     ]
    },
    {
     "name": "stderr",
     "output_type": "stream",
     "text": [
      "100%|██████████| 41.0M/41.0M [00:03<00:00, 13.7MB/s]\n"
     ]
    },
    {
     "name": "stdout",
     "output_type": "stream",
     "text": [
      "\n"
     ]
    }
   ],
   "source": [
    "od.download(\"https://www.kaggle.com/clmentbisaillon/fake-and-real-news-dataset\")"
   ]
  },
  {
   "cell_type": "code",
   "execution_count": 2,
   "metadata": {
    "id": "5B9lo0iC5XxY"
   },
   "outputs": [],
   "source": [
    "#!mkdir ~/.kaggle\n",
    "#!mv kaggle.json ~/.kaggle/\n",
    "#!chmod 600 ~/.kaggle/kaggle.json"
   ]
  },
  {
   "cell_type": "code",
   "execution_count": 3,
   "metadata": {
    "colab": {
     "base_uri": "https://localhost:8080/"
    },
    "id": "Xiusc2zROlLd",
    "outputId": "d6bc91b7-635a-4589-d13e-ac04d38ed526"
   },
   "outputs": [
    {
     "name": "stdout",
     "output_type": "stream",
     "text": [
      "Downloading fake-and-real-news-dataset.zip to /content\n",
      " 90% 37.0M/41.0M [00:00<00:00, 54.8MB/s]\n",
      "100% 41.0M/41.0M [00:00<00:00, 104MB/s] \n"
     ]
    }
   ],
   "source": [
    "#!kaggle datasets download 'clmentbisaillon/fake-and-real-news-dataset'"
   ]
  },
  {
   "cell_type": "code",
   "execution_count": 1,
   "metadata": {
    "colab": {
     "base_uri": "https://localhost:8080/"
    },
    "id": "0PYXxvMWlXcY",
    "outputId": "60889d53-7aaf-4794-e921-39c19e1996ee"
   },
   "outputs": [
    {
     "name": "stdout",
     "output_type": "stream",
     "text": [
      "\n",
      "Imported deep_auto_viml. version=0.0.67\n",
      "from deep_autoviml import deep_autoviml as deepauto\n",
      "-------------------\n",
      "model, cat_vocab_dict = deepauto.fit(train, target, keras_model_type=\"fast\",\n",
      "\t\tproject_name=\"deep_autoviml\", keras_options=keras_options,  \n",
      "\t\tmodel_options=model_options, save_model_flag=True, use_my_model='',\n",
      "\t\tmodel_use_case='', verbose=0)\n",
      "\n",
      "predictions = deepauto.predict(model, project_name, test_dataset=test,\n",
      "                                 keras_model_type=keras_model_type, \n",
      "                                 cat_vocab_dict=cat_vocab_dict)\n",
      "                                \n"
     ]
    }
   ],
   "source": [
    "#Typical imports\n",
    "import pandas as pd\n",
    "import numpy as np\n",
    "from sklearn.model_selection import train_test_split\n",
    "from sklearn.preprocessing import StandardScaler\n",
    "from deep_autoviml import deep_autoviml as deepauto"
   ]
  },
  {
   "cell_type": "code",
   "execution_count": 2,
   "metadata": {
    "colab": {
     "base_uri": "https://localhost:8080/",
     "height": 289
    },
    "id": "byhEzFGrBMZO",
    "outputId": "9347cd53-9c5a-4fc1-809c-603b1583a3fd"
   },
   "outputs": [
    {
     "data": {
      "text/html": [
       "<div>\n",
       "<style scoped>\n",
       "    .dataframe tbody tr th:only-of-type {\n",
       "        vertical-align: middle;\n",
       "    }\n",
       "\n",
       "    .dataframe tbody tr th {\n",
       "        vertical-align: top;\n",
       "    }\n",
       "\n",
       "    .dataframe thead th {\n",
       "        text-align: right;\n",
       "    }\n",
       "</style>\n",
       "<table border=\"1\" class=\"dataframe\">\n",
       "  <thead>\n",
       "    <tr style=\"text-align: right;\">\n",
       "      <th></th>\n",
       "      <th>title</th>\n",
       "      <th>text</th>\n",
       "      <th>subject</th>\n",
       "      <th>date</th>\n",
       "      <th>fake</th>\n",
       "    </tr>\n",
       "  </thead>\n",
       "  <tbody>\n",
       "    <tr>\n",
       "      <th>0</th>\n",
       "      <td>Foreign Diplomats Scared Sh*tless Over The Id...</td>\n",
       "      <td>As we know, the final United Nations General A...</td>\n",
       "      <td>News</td>\n",
       "      <td>September 21, 2016</td>\n",
       "      <td>1</td>\n",
       "    </tr>\n",
       "    <tr>\n",
       "      <th>1</th>\n",
       "      <td>U.S. consumer watchdog agency official sues to...</td>\n",
       "      <td>WASHINGTON (Reuters) - A senior U.S. Consumer ...</td>\n",
       "      <td>politicsNews</td>\n",
       "      <td>November 26, 2017</td>\n",
       "      <td>0</td>\n",
       "    </tr>\n",
       "    <tr>\n",
       "      <th>2</th>\n",
       "      <td>Two children sue over Trump effort to roll bac...</td>\n",
       "      <td>(Reuters) - Two children, backed by the Clean ...</td>\n",
       "      <td>politicsNews</td>\n",
       "      <td>November 6, 2017</td>\n",
       "      <td>0</td>\n",
       "    </tr>\n",
       "    <tr>\n",
       "      <th>3</th>\n",
       "      <td>EVERY State In America Just Turned On Trump, ...</td>\n",
       "      <td>From day one of Donald Trump s failure of a pr...</td>\n",
       "      <td>News</td>\n",
       "      <td>July 5, 2017</td>\n",
       "      <td>1</td>\n",
       "    </tr>\n",
       "    <tr>\n",
       "      <th>4</th>\n",
       "      <td>U.S. Nazi Party Leader: Trump’s Campaign Is A...</td>\n",
       "      <td>More proof that Donald Trump s presidential ca...</td>\n",
       "      <td>News</td>\n",
       "      <td>August 7, 2016</td>\n",
       "      <td>1</td>\n",
       "    </tr>\n",
       "  </tbody>\n",
       "</table>\n",
       "</div>"
      ],
      "text/plain": [
       "                                               title  \\\n",
       "0   Foreign Diplomats Scared Sh*tless Over The Id...   \n",
       "1  U.S. consumer watchdog agency official sues to...   \n",
       "2  Two children sue over Trump effort to roll bac...   \n",
       "3   EVERY State In America Just Turned On Trump, ...   \n",
       "4   U.S. Nazi Party Leader: Trump’s Campaign Is A...   \n",
       "\n",
       "                                                text       subject  \\\n",
       "0  As we know, the final United Nations General A...          News   \n",
       "1  WASHINGTON (Reuters) - A senior U.S. Consumer ...  politicsNews   \n",
       "2  (Reuters) - Two children, backed by the Clean ...  politicsNews   \n",
       "3  From day one of Donald Trump s failure of a pr...          News   \n",
       "4  More proof that Donald Trump s presidential ca...          News   \n",
       "\n",
       "                 date  fake  \n",
       "0  September 21, 2016     1  \n",
       "1  November 26, 2017      0  \n",
       "2   November 6, 2017      0  \n",
       "3        July 5, 2017     1  \n",
       "4      August 7, 2016     1  "
      ]
     },
     "execution_count": 2,
     "metadata": {},
     "output_type": "execute_result"
    }
   ],
   "source": [
    "fake = pd.read_csv('fake-and-real-news-dataset/Fake.csv')\n",
    "real = pd.read_csv('fake-and-real-news-dataset/True.csv')\n",
    "fake['fake'] = 1\n",
    "real['fake'] = 0\n",
    "df = pd.concat([fake,real])\n",
    "df = df.sample(frac=1).reset_index(drop=True)\n",
    "df.head()"
   ]
  },
  {
   "cell_type": "code",
   "execution_count": 3,
   "metadata": {
    "id": "zD6oPVl1jksd"
   },
   "outputs": [],
   "source": [
    "target = 'fake'\n"
   ]
  },
  {
   "cell_type": "code",
   "execution_count": 4,
   "metadata": {
    "id": "pMPzc4Pp8iyi"
   },
   "outputs": [],
   "source": [
    "keras_model_type =  'auto'\n",
    "keras_options = {\"early_stopping\": True, 'epochs': 350, 'steps_per_epoch': 15, 'class_weight': True}  ### always set early_stopping to True first and then change it to False\n",
    "model_options = {'tuner':\"storm\", \"max_trials\":10, }"
   ]
  },
  {
   "cell_type": "code",
   "execution_count": null,
   "metadata": {
    "colab": {
     "base_uri": "https://localhost:8080/"
    },
    "id": "6vKZcXpVlgPJ",
    "outputId": "b3b3b84a-0f96-4729-eae6-2064dc37811d"
   },
   "outputs": [
    {
     "name": "stdout",
     "output_type": "stream",
     "text": [
      "    Only CPU found on this device\n",
      "Setting CPU strategy using 1 devices\n",
      "Using following keras_options given as input:\n",
      "    epochs : 350\n",
      "    steps_per_epoch : 15\n",
      "    class_weight : True\n",
      "    early_stopping : True\n",
      "Using following model_options given as input:\n",
      "    max_trials : 10\n",
      "    tuner : storm\n",
      "Max Trials : 10. Please increase max_trials if you want to better accuracy...\n",
      "\n",
      "#################################################################################\n",
      "###########     L O A D I N G    D A T A    I N T O   TF.DATA.DATASET H E R E  #\n",
      "#################################################################################\n",
      "        \n",
      "Alert! Modified column names to satisfy rules for column names in Tensorflow...\n",
      "    Model type is Classification and Single_Label problem\n",
      "    Classifying variables using data sample in pandas...\n",
      "############## C L A S S I F Y I N G  V A R I A B L E S  ####################\n",
      "Classifying variables in data set...\n",
      "    Number of Numeric Columns =  0\n",
      "    Number of Integer-Categorical Columns =  0\n",
      "    Number of String-Categorical Columns =  0\n",
      "    Number of Factor-Categorical Columns =  0\n",
      "    Number of String-Boolean Columns =  1\n",
      "    Number of Numeric-Boolean Columns =  0\n",
      "    Number of Discrete String Columns =  0\n",
      "    Number of NLP String Columns =  2\n",
      "    Number of Date Time Columns =  1\n",
      "    Number of ID Columns =  0\n",
      "    Number of Columns to Delete =  0\n",
      "    4 Predictors classified...\n",
      "    possible latitude columns in dataset: []\n",
      "        after further analysis, no latitude columns found\n",
      "    possible longitude columns in dataset: []\n",
      "        after further analysis, no longitude columns found\n",
      "        No variables removed since no ID or low-information variables found in data set\n",
      "Distribution of string columns in datatset:\n",
      "    number of binary = 1, cats = 0, high cats = 0, very high cats = 3\n",
      "Distribution of integer columns in datatset:\n",
      "    number of binary = 1, cats = 0, high cats = 0, very high cats = 0\n",
      "Distribution of floats:\n",
      "    number float variables = 0\n",
      "No data transformations needed in this dataset\n",
      "printing first five values of fake: [1 0 0 1 1]\n",
      "title is detected and will be treated as an NLP variable\n",
      "text is detected and will be treated as an NLP variable\n",
      "    after data cleaning, number of predictors used in modeling = 4\n",
      "Not performing feature crossing for categorical nor integer variables\n",
      "Boolean column successfully processed\n",
      "    combined NLP or text vars: ['title', 'text'] into a single feature successfully\n",
      "Printing one batch from the dataset:\n",
      "title                                   : [b' Foreign Diplomats Scared Sh*tless Over The Idea Of A President Trump'\n",
      " b\"U.S. consumer watchdog agency official sues to block Trump's pick\"\n",
      " b'Two children sue over Trump effort to roll back Clean Power Plan'\n",
      " b' EVERY State In America Just Turned On Trump, This Is A Major \\xe2\\x80\\x98F*ck You\\xe2\\x80\\x99 To POTUS (DETAILS)']\n",
      "text                                    : [b'As we know, the final United Nations General Assembly of President Obama s presidency is occurring in New York City this week. That gave diplomats from around the world to weigh in on this year s very strange presidential election. Many seem rather rattled about the idea of a Donald Trump presidency, while others merely poked fun at Trump s buffoonery.One diplomat mocked Trump, saying,  he s a clown.  Another said,  He s nuts.  Yet another said that Trump is an  untrustworthy egomaniacal equivocator. Well, it s too bad so many American citizens can t see these traits in Trump. An Ipsos poll that polled foreign ambassadors who are currently working in America has 60 percent of these people saying they would vote for Democratic presidential nominee Hillary Clinton if they were citizens, while only 7 percent would hop on the Trump Train. That in and of itself is very telling.Dennis Jett, who spent much of his career being a diplomat himself and now works for Pennsylvania State University School of International Affairs, says that Trump s behavior has made many diplomats nervous and worried about American leadership, America s role in the world. Also curious is the fact that the American people have succumbed to the belief that Hillary is untrustworthy, while 93 percent of those surveyed in the Ipsos poll say that they find Hillary to be  somewhat  or  very much  in the realm of someone who they feel they can trust. On the other hand, just two in five of those surveyed say that they trust Trump  a little  while the rest said they don t trust him as far as they can throw him.German Foreign Minister Frank-Walter Steinmeier says that Trump is a  hate preacher  and alluded to the idea that the billionaire tycoon reminds him of demagogues from past times in his own homeland. French President Fran ois Hollande says that the GOP nominee s excesses make you want to retch. One lobbyist familiar with the diplomatic community says that there are deepening fears around the world regarding the idea of Trump making it to the White House. Speaking anonymously, the lobbyist said: Foreign clients are very concerned about what they perceive as a tipping point in this election. This is less about Democrat versus Republican, and more about open versus closed economy, vis- -vis the rest of the world. With a wave of nationalism and protectionism sweeping the West, there is a real concern it will take hold in the United States and in what form it might show itself post-election.Whether it s immigration reform or trade policy, it feels as if much of the world is opening while the U.S. is teetering on closing. Even more alarming, the diplomats say, is Trump s  America First  and isolationist demagoguery. Stephen Walt, who works as a professor at the Kennedy School of Government at Harvard University, says of the situation among diplomats: First and most obviously, most foreign governments would like a relatively predictable post-November situation, and I think they regard Trump correctly as a giant leap in the dark.Whatever Hillary Clinton s strengths or weaknesses might be, she has been a very conventional politician, at least when it comes to foreign policy. Therefore, people don t anticipate any kind of radical turn if she s elected. Of course, another source of more than a little concern is Trump s penchant for starting public feuds with longtime allies of the United States, as well as his public musings that he might not honor alliances such as the North Atlantic Treaty Organization (NATO)   which is the single most important military alliance that we have developed since the horrors of World War II.In other words, the entire world is afraid of Donald Trump. Why aren t the American people able to see how dangerous this demagogue is? Donald Trump could single-handedly destroy the world with the power of the presidency.Featured image via Joe Raedle/Getty Images'\n",
      " b'WASHINGTON (Reuters) - A senior U.S. Consumer Financial Protection Bureau official filed suit late on Sunday trying to prevent President Donald Trump from naming an acting head of the watchdog agency, but its top lawyer concluded Trump had the power to do so. The moves were the latest dramatic developments in the fight over leadership succession of an agency created in 2011 under Democratic former President Barack Obama to protect consumers from predatory lending practices. Republicans in the White House and Congress have tried to weaken the agency. The leadership of the agency was plunged into confusion on Friday after its outgoing Obama-era director Richard Cordray formally resigned and elevated his former chief of staff, Leandra English, to replace him on an interim basis until the Senate confirms a permanent successor named by Trump. Hours later, the Republican president named Mulvaney \\xe2\\x80\\x94 his budget chief and a harsh critic of the agency \\xe2\\x80\\x94 as its acting director. CFPB General Counsel Mary McLeod wrote a memo, first reported by Reuters, concurring with the opinion of the U.S. Justice Department that Trump had the power to appoint Mulvaney to the post. \\xe2\\x80\\x9cI advise all Bureau personnel to act consistently with the understanding that Director Mulvaney is the Acting Director of the CFPB,\\xe2\\x80\\x9d McLeod\\xe2\\x80\\x99s memo stated. Late on Sunday, English sued in U.S. District Court in Washington, seeking a temporary restraining order blocking Trump from appointing Mulvaney. In the filing, English said Mulvaney had no experience in a consumer protection or financial regulatory role, had sought to get rid of the agency and once described it as a \\xe2\\x80\\x9csad, sick joke.\\xe2\\x80\\x9d McLeod\\xe2\\x80\\x99s intervention bolstered Trump\\xe2\\x80\\x99s position and isolated English, 34, who has held multiple jobs at the CFPB since its creation. White House spokeswoman Sarah Sanders said the Trump administration is aware of English\\xe2\\x80\\x99s lawsuit, but said \\xe2\\x80\\x9cthe law is clear\\xe2\\x80\\x9d and that Mulvaney is the acting director. Sanders pointed to McLeod\\xe2\\x80\\x99s conclusion, adding that \\xe2\\x80\\x9cthere should be no question\\xe2\\x80\\x9d that Mulvaney can take the job. \\xe2\\x80\\x9cIt is unfortunate that Mr. Cordray decided to put his political ambition above the interests of consumers with this stunt. Director Mulvaney will bring a more serious and professional approach to running the CFPB,\\xe2\\x80\\x9d Sanders said. Both sides in the battle say they have the law on their side. Democrats have said the 2010 Dodd-Frank Wall Street reform law that created the agency stipulated that its deputy director would take over on an interim basis when a director departs until the Senate confirms a permanent director. Cordray named English as deputy director and said she would become the acting director. \\xe2\\x80\\x9cIt\\xe2\\x80\\x99s a very important fact ... their own general counsel came out with a different conclusion,\\xe2\\x80\\x9d said Alan Kaplinsky, head of the Consumer Financial Services Group for law firm Ballard Spahr LLP said. \\xe2\\x80\\x9cNow that the thing is in court, I think it is really going to be in the hands of the judge.\\xe2\\x80\\x9d Trump administration officials said the 1998 Federal Vacancies Reform Act gives a president the power to temporarily fill agency positions, except for those with multi-member boards, an exemption they said did not apply to the CFPB. \\xe2\\x80\\x9cThe president\\xe2\\x80\\x99s attempt to install a White House official at the head of independent agency \\xe2\\x80\\x94 while allowing that official to simultaneously serve in the White House \\xe2\\x80\\x94 is unprecedented,\\xe2\\x80\\x9d said English\\xe2\\x80\\x99s lawyer, Deepak Gupta of the law firm Gupta Wessler, adding that \\xe2\\x80\\x9cthe law is clear\\xe2\\x80\\x9d and that English is the acting director. Created after the 2008 financial crisis, the CFPB has issued rules and imposed steep penalties on banks, auto dealers, student lenders and credit card companies. [L8N1NW0MW]  Future enforcement activities could be stymied while the question of who runs the CFPB is decided.  Republican lawmakers argue that the agency wields too much unchecked power, adding that it burdens banks and credit card companies with unnecessary red tape.  Writing on Twitter, Trump on Saturday called the agency a \\xe2\\x80\\x9ctotal disaster\\xe2\\x80\\x9d that had \\xe2\\x80\\x9cdevastated\\xe2\\x80\\x9d financial institutions. '\n",
      " b'(Reuters) - Two children, backed by the Clean Air Council environmental group, sued U.S. President Donald Trump and two of his Cabinet members on Monday to try to stop them from scrapping a package of pollution-reduction rules known as the Clean Power Plan. The lawsuit, filed in federal court in the Eastern District of Pennsylvania, says the United States is \\xe2\\x80\\x9crelying on junk science\\xe2\\x80\\x9d and ignoring \\xe2\\x80\\x9cclear and present dangers of climate change, knowingly increasing its resulting damages, death and destruction.\\xe2\\x80\\x9d  It was the latest legal action that green advocates have taken to combat Trump administration efforts to roll back environmental regulations through rule changes at agencies like the U.S. Department of Interior and the U.S. Environmental Protection Agency. The two young plaintiffs, aged 7 and 11, are identified only by their first and last initials in the court papers, which allege that both are suffering from the effects of a rapidly warming climate. Trump has called climate change a hoax and said in June he would withdraw the United States from a global pact to combat it - calling the deal\\xe2\\x80\\x99s demands for emissions cuts too costly for the U.S. economy. The lawsuit asks the court to prevent the EPA, Trump and the U.S. Department of Energy, along with Energy Secretary Rick Perry and EPA Administrator Scott Pruitt, from rolling back any rules that \\xe2\\x80\\x9cincrease the frequency and/or intensity of life-threatening effects of climate change.\\xe2\\x80\\x9d  EPA and Energy Department representatives declined to comment. A White House spokeswoman did not immediately respond to a request for comment.  Pruitt said on Oct. 10 he wanted to scrap the Clean Power Plan, put in place under former Democratic President Barack Obama. On Sept. 29, Perry asked federal regulators to provide price incentives to help keep coal and nuclear power plants open, as a way to address \\xe2\\x80\\x9crisks\\xe2\\x80\\x9d to the resilience of the electrical grid. By including the children, the Clean Air Council seemed to model its case after Juliana v. U.S., a pending federal case in which a group of teenagers sued the U.S. government for violating their constitutional rights by causing climate change. \\xe2\\x80\\x9cThe Clean Air Council case is taking the legal theories pioneered in Juliana and applying them to a narrow set of facts related to specific rollbacks of the Trump administration,\\xe2\\x80\\x9d said Meg Ward, a spokeswoman for Our Children\\xe2\\x80\\x99s Trust, a group leading the Juliana suit. '\n",
      " b'From day one of Donald Trump s failure of a presidency, it was perfectly clear that the former reality television star thought he was a king and expected America to roll over and do whatever the hell he wanted. Unfortunately for the unworthy POTUS, his presidency is panning out a lot differently than he imagined, and he s just been sent another great big  f*ck you  by the United States.Trump s voter fraud conspiracy has just been dealt a major blow and suffered a humiliating defeat, as every single state in America is refusing to give up the voter data that Trump is demanding. According to The Washington Post: In a rare display of bipartisanship, officials in nearly every state have said they will partially or fully refuse to comply with President Trump s voting commission, which has encountered criticism and opposition after issuing a sweeping request for voter data nationwide. Even as some of the resistance centers on Trump and members of his commission, the broader responses from the states indicate a strong and widespread belief that local officials should be managing elections and that the White House s request for volumes of information went too far. That s right   America as a whole united and agreed that what Trump wanted was unconstitutional or illegal, and made moves to protect Americans  private data. This is not only extremely embarrassing for Trump, but it also reveals that his administration is increasingly lazy and sloppy, having not even bothered to look and see if their request for the voter data was legal by state law!Unlike Trump and his incompetent team, the majority of America is not so reckless and willing to bow down to a complete idiot. This will go down in the books as yet another one of Trump s failures, as he is once again defeated by the checks and balances he thought he could overrun with his dictator-style  leadership.  Way to go, America!Featured image via Drew Angerer / Getty Images']\n",
      "subject                                 : [b'News' b'politicsNews' b'politicsNews' b'News']\n",
      "date                                    : [b'September 21, 2016' b'November 26, 2017 ' b'November 6, 2017 '\n",
      " b'July 5, 2017']\n",
      "combined_nlp_text                       : [b' Foreign Diplomats Scared Sh*tless Over The Idea Of A President Trump As we know, the final United Nations General Assembly of President Obama s presidency is occurring in New York City this week. That gave diplomats from around the world to weigh in on this year s very strange presidential election. Many seem rather rattled about the idea of a Donald Trump presidency, while others merely poked fun at Trump s buffoonery.One diplomat mocked Trump, saying,  he s a clown.  Another said,  He s nuts.  Yet another said that Trump is an  untrustworthy egomaniacal equivocator. Well, it s too bad so many American citizens can t see these traits in Trump. An Ipsos poll that polled foreign ambassadors who are currently working in America has 60 percent of these people saying they would vote for Democratic presidential nominee Hillary Clinton if they were citizens, while only 7 percent would hop on the Trump Train. That in and of itself is very telling.Dennis Jett, who spent much of his career being a diplomat himself and now works for Pennsylvania State University School of International Affairs, says that Trump s behavior has made many diplomats nervous and worried about American leadership, America s role in the world. Also curious is the fact that the American people have succumbed to the belief that Hillary is untrustworthy, while 93 percent of those surveyed in the Ipsos poll say that they find Hillary to be  somewhat  or  very much  in the realm of someone who they feel they can trust. On the other hand, just two in five of those surveyed say that they trust Trump  a little  while the rest said they don t trust him as far as they can throw him.German Foreign Minister Frank-Walter Steinmeier says that Trump is a  hate preacher  and alluded to the idea that the billionaire tycoon reminds him of demagogues from past times in his own homeland. French President Fran ois Hollande says that the GOP nominee s excesses make you want to retch. One lobbyist familiar with the diplomatic community says that there are deepening fears around the world regarding the idea of Trump making it to the White House. Speaking anonymously, the lobbyist said: Foreign clients are very concerned about what they perceive as a tipping point in this election. This is less about Democrat versus Republican, and more about open versus closed economy, vis- -vis the rest of the world. With a wave of nationalism and protectionism sweeping the West, there is a real concern it will take hold in the United States and in what form it might show itself post-election.Whether it s immigration reform or trade policy, it feels as if much of the world is opening while the U.S. is teetering on closing. Even more alarming, the diplomats say, is Trump s  America First  and isolationist demagoguery. Stephen Walt, who works as a professor at the Kennedy School of Government at Harvard University, says of the situation among diplomats: First and most obviously, most foreign governments would like a relatively predictable post-November situation, and I think they regard Trump correctly as a giant leap in the dark.Whatever Hillary Clinton s strengths or weaknesses might be, she has been a very conventional politician, at least when it comes to foreign policy. Therefore, people don t anticipate any kind of radical turn if she s elected. Of course, another source of more than a little concern is Trump s penchant for starting public feuds with longtime allies of the United States, as well as his public musings that he might not honor alliances such as the North Atlantic Treaty Organization (NATO)   which is the single most important military alliance that we have developed since the horrors of World War II.In other words, the entire world is afraid of Donald Trump. Why aren t the American people able to see how dangerous this demagogue is? Donald Trump could single-handedly destroy the world with the power of the presidency.Featured image via Joe Raedle/Getty Images'\n",
      " b\"U.S. consumer watchdog agency official sues to block Trump's pick WASHINGTON (Reuters) - A senior U.S. Consumer Financial Protection Bureau official filed suit late on Sunday trying to prevent President Donald Trump from naming an acting head of the watchdog agency, but its top lawyer concluded Trump had the power to do so. The moves were the latest dramatic developments in the fight over leadership succession of an agency created in 2011 under Democratic former President Barack Obama to protect consumers from predatory lending practices. Republicans in the White House and Congress have tried to weaken the agency. The leadership of the agency was plunged into confusion on Friday after its outgoing Obama-era director Richard Cordray formally resigned and elevated his former chief of staff, Leandra English, to replace him on an interim basis until the Senate confirms a permanent successor named by Trump. Hours later, the Republican president named Mulvaney \\xe2\\x80\\x94 his budget chief and a harsh critic of the agency \\xe2\\x80\\x94 as its acting director. CFPB General Counsel Mary McLeod wrote a memo, first reported by Reuters, concurring with the opinion of the U.S. Justice Department that Trump had the power to appoint Mulvaney to the post. \\xe2\\x80\\x9cI advise all Bureau personnel to act consistently with the understanding that Director Mulvaney is the Acting Director of the CFPB,\\xe2\\x80\\x9d McLeod\\xe2\\x80\\x99s memo stated. Late on Sunday, English sued in U.S. District Court in Washington, seeking a temporary restraining order blocking Trump from appointing Mulvaney. In the filing, English said Mulvaney had no experience in a consumer protection or financial regulatory role, had sought to get rid of the agency and once described it as a \\xe2\\x80\\x9csad, sick joke.\\xe2\\x80\\x9d McLeod\\xe2\\x80\\x99s intervention bolstered Trump\\xe2\\x80\\x99s position and isolated English, 34, who has held multiple jobs at the CFPB since its creation. White House spokeswoman Sarah Sanders said the Trump administration is aware of English\\xe2\\x80\\x99s lawsuit, but said \\xe2\\x80\\x9cthe law is clear\\xe2\\x80\\x9d and that Mulvaney is the acting director. Sanders pointed to McLeod\\xe2\\x80\\x99s conclusion, adding that \\xe2\\x80\\x9cthere should be no question\\xe2\\x80\\x9d that Mulvaney can take the job. \\xe2\\x80\\x9cIt is unfortunate that Mr. Cordray decided to put his political ambition above the interests of consumers with this stunt. Director Mulvaney will bring a more serious and professional approach to running the CFPB,\\xe2\\x80\\x9d Sanders said. Both sides in the battle say they have the law on their side. Democrats have said the 2010 Dodd-Frank Wall Street reform law that created the agency stipulated that its deputy director would take over on an interim basis when a director departs until the Senate confirms a permanent director. Cordray named English as deputy director and said she would become the acting director. \\xe2\\x80\\x9cIt\\xe2\\x80\\x99s a very important fact ... their own general counsel came out with a different conclusion,\\xe2\\x80\\x9d said Alan Kaplinsky, head of the Consumer Financial Services Group for law firm Ballard Spahr LLP said. \\xe2\\x80\\x9cNow that the thing is in court, I think it is really going to be in the hands of the judge.\\xe2\\x80\\x9d Trump administration officials said the 1998 Federal Vacancies Reform Act gives a president the power to temporarily fill agency positions, except for those with multi-member boards, an exemption they said did not apply to the CFPB. \\xe2\\x80\\x9cThe president\\xe2\\x80\\x99s attempt to install a White House official at the head of independent agency \\xe2\\x80\\x94 while allowing that official to simultaneously serve in the White House \\xe2\\x80\\x94 is unprecedented,\\xe2\\x80\\x9d said English\\xe2\\x80\\x99s lawyer, Deepak Gupta of the law firm Gupta Wessler, adding that \\xe2\\x80\\x9cthe law is clear\\xe2\\x80\\x9d and that English is the acting director. Created after the 2008 financial crisis, the CFPB has issued rules and imposed steep penalties on banks, auto dealers, student lenders and credit card companies. [L8N1NW0MW]  Future enforcement activities could be stymied while the question of who runs the CFPB is decided.  Republican lawmakers argue that the agency wields too much unchecked power, adding that it burdens banks and credit card companies with unnecessary red tape.  Writing on Twitter, Trump on Saturday called the agency a \\xe2\\x80\\x9ctotal disaster\\xe2\\x80\\x9d that had \\xe2\\x80\\x9cdevastated\\xe2\\x80\\x9d financial institutions. \"\n",
      " b'Two children sue over Trump effort to roll back Clean Power Plan (Reuters) - Two children, backed by the Clean Air Council environmental group, sued U.S. President Donald Trump and two of his Cabinet members on Monday to try to stop them from scrapping a package of pollution-reduction rules known as the Clean Power Plan. The lawsuit, filed in federal court in the Eastern District of Pennsylvania, says the United States is \\xe2\\x80\\x9crelying on junk science\\xe2\\x80\\x9d and ignoring \\xe2\\x80\\x9cclear and present dangers of climate change, knowingly increasing its resulting damages, death and destruction.\\xe2\\x80\\x9d  It was the latest legal action that green advocates have taken to combat Trump administration efforts to roll back environmental regulations through rule changes at agencies like the U.S. Department of Interior and the U.S. Environmental Protection Agency. The two young plaintiffs, aged 7 and 11, are identified only by their first and last initials in the court papers, which allege that both are suffering from the effects of a rapidly warming climate. Trump has called climate change a hoax and said in June he would withdraw the United States from a global pact to combat it - calling the deal\\xe2\\x80\\x99s demands for emissions cuts too costly for the U.S. economy. The lawsuit asks the court to prevent the EPA, Trump and the U.S. Department of Energy, along with Energy Secretary Rick Perry and EPA Administrator Scott Pruitt, from rolling back any rules that \\xe2\\x80\\x9cincrease the frequency and/or intensity of life-threatening effects of climate change.\\xe2\\x80\\x9d  EPA and Energy Department representatives declined to comment. A White House spokeswoman did not immediately respond to a request for comment.  Pruitt said on Oct. 10 he wanted to scrap the Clean Power Plan, put in place under former Democratic President Barack Obama. On Sept. 29, Perry asked federal regulators to provide price incentives to help keep coal and nuclear power plants open, as a way to address \\xe2\\x80\\x9crisks\\xe2\\x80\\x9d to the resilience of the electrical grid. By including the children, the Clean Air Council seemed to model its case after Juliana v. U.S., a pending federal case in which a group of teenagers sued the U.S. government for violating their constitutional rights by causing climate change. \\xe2\\x80\\x9cThe Clean Air Council case is taking the legal theories pioneered in Juliana and applying them to a narrow set of facts related to specific rollbacks of the Trump administration,\\xe2\\x80\\x9d said Meg Ward, a spokeswoman for Our Children\\xe2\\x80\\x99s Trust, a group leading the Juliana suit. '\n",
      " b' EVERY State In America Just Turned On Trump, This Is A Major \\xe2\\x80\\x98F*ck You\\xe2\\x80\\x99 To POTUS (DETAILS) From day one of Donald Trump s failure of a presidency, it was perfectly clear that the former reality television star thought he was a king and expected America to roll over and do whatever the hell he wanted. Unfortunately for the unworthy POTUS, his presidency is panning out a lot differently than he imagined, and he s just been sent another great big  f*ck you  by the United States.Trump s voter fraud conspiracy has just been dealt a major blow and suffered a humiliating defeat, as every single state in America is refusing to give up the voter data that Trump is demanding. According to The Washington Post: In a rare display of bipartisanship, officials in nearly every state have said they will partially or fully refuse to comply with President Trump s voting commission, which has encountered criticism and opposition after issuing a sweeping request for voter data nationwide. Even as some of the resistance centers on Trump and members of his commission, the broader responses from the states indicate a strong and widespread belief that local officials should be managing elections and that the White House s request for volumes of information went too far. That s right   America as a whole united and agreed that what Trump wanted was unconstitutional or illegal, and made moves to protect Americans  private data. This is not only extremely embarrassing for Trump, but it also reveals that his administration is increasingly lazy and sloppy, having not even bothered to look and see if their request for the voter data was legal by state law!Unlike Trump and his incompetent team, the majority of America is not so reckless and willing to bow down to a complete idiot. This will go down in the books as yet another one of Trump s failures, as he is once again defeated by the checks and balances he thought he could overrun with his dictator-style  leadership.  Way to go, America!Featured image via Drew Angerer / Getty Images']\n",
      "       Class  -> Counts -> Percent\n",
      "           0:    7729  ->   50.4%\n",
      "           1:    7613  ->   49.6%\n",
      "    Class weights calculated: {0: 1.0, 1: 1.0076185472218573}\n",
      "\n",
      "#################################################################################\n",
      "###########     K E R A S     F E A T U R E    P R E P R O C E S S I N G  #######\n",
      "#################################################################################\n",
      "        \n",
      "Starting NLP string column layer preprocessing...\n",
      "For nlp column = text\n",
      "    size of vocabulary = 6543582\n",
      "    sequence length = 29781\n",
      "    recommended embedding_size = 256\n",
      "For nlp column = title\n",
      "    size of vocabulary = 185221\n",
      "    sequence length = 131\n",
      "    recommended embedding_size = 48\n",
      "Max vocab size = 87636\n",
      "    Auto NNLM 50 with Normalization selected from: https://tfhub.dev/google/nnlm-en-dim50-with-normalization/2\n",
      "    NLP Preprocessing completed.\n",
      "Preprocessing non-NLP layers for auto Keras model...\n",
      "    auto combined wide, deep and nlp outputs successfully...\n",
      "\n",
      "Creating a new Functional model here...\n",
      "\n",
      "#################################################################################\n",
      "###########     C R E A T I N G    A    K E R A S       M O D E L    ############\n",
      "#################################################################################\n",
      "        \n",
      "Creating a keras Function model...\n",
      "    number of outputs = 1, output_activation = sigmoid\n",
      "    loss function: SparseCategoricalCrossentropy\n",
      "    initial learning rate = 0.05\n",
      "    initial optimizer = SGD\n",
      "    Recommended hidden layers (with units in each Dense Layer)  = (96, 64, 32)\n",
      "\n",
      "    creating auto model body...\n",
      "\"dot\" with args ['-Tps', 'C:\\\\Users\\\\JIMMY~1.LIA\\\\AppData\\\\Local\\\\Temp\\\\1\\\\tmp53d9l6vd'] returned code: 1\n",
      "\n",
      "stdout, stderr:\n",
      " b''\n",
      "b\"'C:\\\\Users\\\\jimmy.liang\\\\Anaconda3\\\\envs\\\\Special' is not recognized as an internal or external command,\\r\\noperable program or batch file.\\r\\n\"\n",
      "\n",
      "Model plot not saved due to error. Continuing...\n",
      "\n",
      "#################################################################################\n",
      "###########     T R A I N I N G    K E R A S   M O D E L   H E R E      #########\n",
      "#################################################################################\n",
      "    \n",
      "Building and training an automatic model using storm Tuner...\n",
      "    Class weights: {0: 1.0, 1: 1.0076185472218573}\n",
      "    original datasize = 15342, initial batchsize = 32\n",
      "    Early stopping : True\n",
      "    recommended steps per epoch = 10\n",
      "    default initializer = lecun_normal, default activation = selu\n",
      "    Onecycle steps = 84000\n",
      "    number of classes = 2, output_activation = sigmoid\n",
      "    loss function: SparseCategoricalCrossentropy\n",
      "    steps_per_epoch = 15, number epochs = 350\n",
      "    val mode = max, val monitor = val_balanced_sparse_categorical_accuracy, patience = 10\n",
      "Tensorboard log directory can be found at: deep_autoviml\\mylogs\n",
      "    chosen keras LR scheduler = default\n",
      "\n",
      "Splitting train into 80+20 percent: train and validation data\n",
      "    Splitting validation 20 into 10+10 percent: valid and heldout data\n",
      "Single-Label: Heldout data shape: (1536,)\n",
      "    Training auto model using storm. This will take time...\n",
      "new tuner initialized\n",
      "    STORM Tuner max_trials = 10, randomization factor = 0.5\n",
      "Max. batch size = 64, number of batch sizes to try: 5\n",
      "\n",
      "-------- OPTIMIZING HYPERPARAMETERS --------\n",
      "\n",
      "    found best learning rate = 0.000988054\n",
      "<><><> NEW BEST! <><><>\n",
      "\tactivation : relu\n",
      "\tbatch_norm : True\n",
      "\tbatch_size : 32\n",
      "\tdropout_value : 0.3\n",
      "\tinit_lr : 0.001\n",
      "\tkernel_initializer : lecun_normal\n",
      "\tkernel_size_0 : 200\n",
      "\tnum_layers : 3\n",
      "\toptimizer : RMSprop\n",
      "\tuse_batch_norm : True\n",
      "\tuse_bias : True\n",
      "\tuse_dropout : True\n",
      "\tweight_decay : 0.01\n",
      "1 | score: 0.9097543\n",
      "    found best learning rate = 9.880539e-05\n",
      "<><><> NEW BEST! <><><>\n",
      "\tactivation : elu\n",
      "\tbatch_norm : False\n",
      "\tbatch_size : 32\n",
      "\tinit_lr : 0.0001\n",
      "\tkernel_initializer : he_uniform\n",
      "\tkernel_size_0 : 150\n",
      "\tnum_layers : 1\n",
      "\toptimizer : Adagrad\n",
      "\tuse_batch_norm : True\n",
      "\tuse_bias : False\n",
      "\tuse_dropout : False\n",
      "\tweight_decay : 1e-06\n",
      "2 | score: 0.99466217\n",
      "    found best learning rate = 0.000988054\n",
      "<><><> NEW BEST! <><><>\n",
      "\tactivation : relu\n",
      "\tbatch_norm : True\n",
      "\tbatch_size : 32\n",
      "\tdropout_value : 0.4\n",
      "\tinit_lr : 0.001\n",
      "\tkernel_initializer : he_normal\n",
      "\tkernel_size_0 : 400\n",
      "\tnum_layers : 2\n",
      "\toptimizer : RMSprop\n",
      "\tuse_batch_norm : False\n",
      "\tuse_bias : True\n",
      "\tuse_dropout : True\n",
      "\tweight_decay : 1e-07\n",
      "3 | score: 1.0\n",
      "    found best learning rate = 0.009880539\n",
      "4 | score: 1.0\n",
      "    found best learning rate = 0.000988054\n",
      "5 | score: 0.99654862\n",
      "    found best learning rate = 0.000988054\n",
      "6 | score: 1.0\n",
      "    found best learning rate = 0.000988054\n",
      "7 | score: 1.0\n",
      "    found best learning rate = 0.000988054\n",
      "8 | score: 1.0\n",
      "    found best learning rate = 0.000988054\n",
      "9 | score: 1.0\n",
      "    found best learning rate = 0.000988054\n",
      "10 | score: 1.0\n",
      "tuner finished 10 trials!\n",
      "final best config:\n",
      "\tactivation : relu\n",
      "\tbatch_norm : True\n",
      "\tbatch_size : 32\n",
      "\tdropout_value : 0.4\n",
      "\tinit_lr : 0.001\n",
      "\tkernel_initializer : he_normal\n",
      "\tkernel_size_0 : 400\n",
      "\tnum_layers : 2\n",
      "\toptimizer : RMSprop\n",
      "\tuse_batch_norm : False\n",
      "\tuse_bias : True\n",
      "\tuse_dropout : True\n",
      "\tweight_decay : 1e-07\n",
      "    best trial selected as <storm_tuner.tuner.Trial object at 0x000001F8B7C0D7C8>\n",
      "Time taken for tuning hyperparameters = 2 (mins)\n",
      "Best hyperparameters: {'batch_size': 32, 'num_layers': 2, 'activation': 'relu', 'use_bias': True, 'weight_decay': 1e-07, 'batch_norm': True, 'kernel_initializer': 'he_normal', 'use_dropout': True, 'use_batch_norm': False, 'kernel_size_0': 400, 'optimizer': 'RMSprop', 'init_lr': 0.001, 'dropout_value': 0.4}\n",
      "\n",
      "Setting best optimizer RMSprop its best learning_rate = 0.000988054\n",
      "Model training with best hyperparameters for 350 epochs\n",
      "    Callback added: EarlyStopping object at 0x000001F8B7C2F248>\n",
      "    Callback added: TensorBoard object at 0x000001F8AC6DB1C8>\n",
      "    Callback added: LearningRateScheduler object at 0x000001F8B7C2F548>\n",
      "Epoch 1/350\n",
      "239/239 [==============================] - 3s 10ms/step - loss: 0.0269 - balanced_sparse_categorical_accuracy: 0.9970 - val_loss: 1.7012e-04 - val_balanced_sparse_categorical_accuracy: 1.0000\n",
      "Epoch 2/350\n",
      "239/239 [==============================] - 2s 8ms/step - loss: 1.3760e-04 - balanced_sparse_categorical_accuracy: 1.0000 - val_loss: 1.0930e-04 - val_balanced_sparse_categorical_accuracy: 1.0000\n",
      "Epoch 3/350\n",
      "239/239 [==============================] - 2s 8ms/step - loss: 8.9371e-05 - balanced_sparse_categorical_accuracy: 1.0000 - val_loss: 7.2775e-05 - val_balanced_sparse_categorical_accuracy: 1.0000\n",
      "Epoch 4/350\n",
      "239/239 [==============================] - 2s 8ms/step - loss: 6.1211e-05 - balanced_sparse_categorical_accuracy: 1.0000 - val_loss: 5.1241e-05 - val_balanced_sparse_categorical_accuracy: 1.0000\n",
      "Epoch 5/350\n",
      "239/239 [==============================] - 2s 8ms/step - loss: 4.3946e-05 - balanced_sparse_categorical_accuracy: 1.0000 - val_loss: 3.7483e-05 - val_balanced_sparse_categorical_accuracy: 1.0000\n",
      "Epoch 6/350\n",
      "239/239 [==============================] - 2s 8ms/step - loss: 3.2523e-05 - balanced_sparse_categorical_accuracy: 1.0000 - val_loss: 2.8019e-05 - val_balanced_sparse_categorical_accuracy: 1.0000\n",
      "Epoch 7/350\n",
      "239/239 [==============================] - 2s 8ms/step - loss: 2.4414e-05 - balanced_sparse_categorical_accuracy: 1.0000 - val_loss: 2.1080e-05 - val_balanced_sparse_categorical_accuracy: 1.0000\n",
      "Epoch 8/350\n",
      "239/239 [==============================] - 2s 8ms/step - loss: 1.8358e-05 - balanced_sparse_categorical_accuracy: 1.0000 - val_loss: 1.5822e-05 - val_balanced_sparse_categorical_accuracy: 1.0000\n",
      "Epoch 9/350\n",
      "239/239 [==============================] - 2s 8ms/step - loss: 1.3740e-05 - balanced_sparse_categorical_accuracy: 1.0000 - val_loss: 1.1784e-05 - val_balanced_sparse_categorical_accuracy: 1.0000\n",
      "Epoch 10/350\n",
      "239/239 [==============================] - 2s 8ms/step - loss: 1.0198e-05 - balanced_sparse_categorical_accuracy: 1.0000 - val_loss: 8.6985e-06 - val_balanced_sparse_categorical_accuracy: 1.0000\n",
      "Epoch 11/350\n",
      "239/239 [==============================] - 2s 9ms/step - loss: 7.4842e-06 - balanced_sparse_categorical_accuracy: 1.0000 - val_loss: 6.3378e-06 - val_balanced_sparse_categorical_accuracy: 1.0000\n",
      "Restoring model weights from the end of the best epoch.\n",
      "Epoch 00011: early stopping\n",
      "    Model training completed. Following metrics available: dict_keys(['loss', 'balanced_sparse_categorical_accuracy', 'val_loss', 'val_balanced_sparse_categorical_accuracy', 'lr'])\n",
      "Time taken to train model (in mins) = 2\n",
      "12868\n"
     ]
    }
   ],
   "source": [
    "model, dicti = deepauto.fit(df, target, keras_model_type=keras_model_type, \n",
    "                            project_name='NLP_project',\n",
    "                 save_model_flag=False, model_options=model_options,\n",
    "                            keras_options=keras_options, use_my_model='', verbose=1)"
   ]
  },
  {
   "cell_type": "code",
   "execution_count": null,
   "metadata": {
    "id": "NjkS_PWOomzr"
   },
   "outputs": [],
   "source": []
  }
 ],
 "metadata": {
  "colab": {
   "collapsed_sections": [],
   "name": "AutoViML NLP.ipynb",
   "provenance": []
  },
  "kernelspec": {
   "display_name": "Python 3 (ipykernel)",
   "language": "python",
   "name": "python3"
  },
  "language_info": {
   "codemirror_mode": {
    "name": "ipython",
    "version": 3
   },
   "file_extension": ".py",
   "mimetype": "text/x-python",
   "name": "python",
   "nbconvert_exporter": "python",
   "pygments_lexer": "ipython3",
   "version": "3.7.11"
  }
 },
 "nbformat": 4,
 "nbformat_minor": 4
}
